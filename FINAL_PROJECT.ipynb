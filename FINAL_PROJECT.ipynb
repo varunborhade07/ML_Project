{
 "cells": [
  {
   "cell_type": "code",
   "execution_count": 1,
   "id": "d9c9c1e5",
   "metadata": {},
   "outputs": [],
   "source": [
    "import pandas as pd\n",
    "import pandas as pd\n",
    "import numpy as np\n",
    "import matplotlib.pyplot as plt\n",
    "import seaborn as sns\n",
    "import warnings\n",
    "warnings.filterwarnings('ignore')\n",
    "df = pd.read_excel(\"Dataset.xlsx\")"
   ]
  },
  {
   "cell_type": "code",
   "execution_count": 2,
   "id": "01b039f8",
   "metadata": {},
   "outputs": [
    {
     "data": {
      "text/html": [
       "<div>\n",
       "<style scoped>\n",
       "    .dataframe tbody tr th:only-of-type {\n",
       "        vertical-align: middle;\n",
       "    }\n",
       "\n",
       "    .dataframe tbody tr th {\n",
       "        vertical-align: top;\n",
       "    }\n",
       "\n",
       "    .dataframe thead th {\n",
       "        text-align: right;\n",
       "    }\n",
       "</style>\n",
       "<table border=\"1\" class=\"dataframe\">\n",
       "  <thead>\n",
       "    <tr style=\"text-align: right;\">\n",
       "      <th></th>\n",
       "      <th>Test1</th>\n",
       "      <th>Test2</th>\n",
       "      <th>Test3</th>\n",
       "      <th>Attendance</th>\n",
       "      <th>Interest</th>\n",
       "      <th>Attrition</th>\n",
       "      <th>Teacher_feedback</th>\n",
       "      <th>Study Hours per Week</th>\n",
       "      <th>Health Status</th>\n",
       "      <th>Distance_From_Institute</th>\n",
       "      <th>Gender</th>\n",
       "    </tr>\n",
       "  </thead>\n",
       "  <tbody>\n",
       "    <tr>\n",
       "      <th>1753</th>\n",
       "      <td>61.0</td>\n",
       "      <td>76.0</td>\n",
       "      <td>77.0</td>\n",
       "      <td>83.0</td>\n",
       "      <td>High</td>\n",
       "      <td>No</td>\n",
       "      <td>Consistency in your approach to assignments is...</td>\n",
       "      <td>14</td>\n",
       "      <td>Poor</td>\n",
       "      <td>5.526843</td>\n",
       "      <td>Female</td>\n",
       "    </tr>\n",
       "    <tr>\n",
       "      <th>6965</th>\n",
       "      <td>91.0</td>\n",
       "      <td>41.0</td>\n",
       "      <td>92.0</td>\n",
       "      <td>74.0</td>\n",
       "      <td>Medium</td>\n",
       "      <td>No</td>\n",
       "      <td>Your commitment to improvement is evident in y...</td>\n",
       "      <td>14</td>\n",
       "      <td>Good</td>\n",
       "      <td>3.286643</td>\n",
       "      <td>Female</td>\n",
       "    </tr>\n",
       "    <tr>\n",
       "      <th>8377</th>\n",
       "      <td>89.0</td>\n",
       "      <td>49.0</td>\n",
       "      <td>95.0</td>\n",
       "      <td>85.0</td>\n",
       "      <td>High</td>\n",
       "      <td>No</td>\n",
       "      <td>Your attention to detail could use improvement...</td>\n",
       "      <td>5</td>\n",
       "      <td>Poor</td>\n",
       "      <td>10.526846</td>\n",
       "      <td>Female</td>\n",
       "    </tr>\n",
       "    <tr>\n",
       "      <th>4359</th>\n",
       "      <td>88.0</td>\n",
       "      <td>64.0</td>\n",
       "      <td>93.0</td>\n",
       "      <td>77.0</td>\n",
       "      <td>Medium</td>\n",
       "      <td>No</td>\n",
       "      <td>Collaborative efforts could be more impactful ...</td>\n",
       "      <td>3</td>\n",
       "      <td>Poor</td>\n",
       "      <td>8.134420</td>\n",
       "      <td>Male</td>\n",
       "    </tr>\n",
       "    <tr>\n",
       "      <th>2877</th>\n",
       "      <td>86.0</td>\n",
       "      <td>66.0</td>\n",
       "      <td>67.0</td>\n",
       "      <td>98.0</td>\n",
       "      <td>High</td>\n",
       "      <td>No</td>\n",
       "      <td>Your positive influence in group settings is n...</td>\n",
       "      <td>1</td>\n",
       "      <td>Good</td>\n",
       "      <td>10.332255</td>\n",
       "      <td>Female</td>\n",
       "    </tr>\n",
       "  </tbody>\n",
       "</table>\n",
       "</div>"
      ],
      "text/plain": [
       "      Test1  Test2  Test3  Attendance Interest Attrition  \\\n",
       "1753   61.0   76.0   77.0        83.0     High        No   \n",
       "6965   91.0   41.0   92.0        74.0   Medium        No   \n",
       "8377   89.0   49.0   95.0        85.0     High        No   \n",
       "4359   88.0   64.0   93.0        77.0   Medium        No   \n",
       "2877   86.0   66.0   67.0        98.0     High        No   \n",
       "\n",
       "                                       Teacher_feedback  Study Hours per Week  \\\n",
       "1753  Consistency in your approach to assignments is...                    14   \n",
       "6965  Your commitment to improvement is evident in y...                    14   \n",
       "8377  Your attention to detail could use improvement...                     5   \n",
       "4359  Collaborative efforts could be more impactful ...                     3   \n",
       "2877  Your positive influence in group settings is n...                     1   \n",
       "\n",
       "     Health Status  Distance_From_Institute  Gender  \n",
       "1753          Poor                 5.526843  Female  \n",
       "6965          Good                 3.286643  Female  \n",
       "8377          Poor                10.526846  Female  \n",
       "4359          Poor                 8.134420    Male  \n",
       "2877          Good                10.332255  Female  "
      ]
     },
     "execution_count": 2,
     "metadata": {},
     "output_type": "execute_result"
    }
   ],
   "source": [
    "df.sample(5)"
   ]
  },
  {
   "cell_type": "code",
   "execution_count": 3,
   "id": "45b3879d",
   "metadata": {},
   "outputs": [
    {
     "data": {
      "text/plain": [
       "(10000, 11)"
      ]
     },
     "execution_count": 3,
     "metadata": {},
     "output_type": "execute_result"
    }
   ],
   "source": [
    "df.shape#cheak shape of dataset"
   ]
  },
  {
   "cell_type": "code",
   "execution_count": 4,
   "id": "c4461c27",
   "metadata": {},
   "outputs": [
    {
     "data": {
      "text/plain": [
       "Test1                      492\n",
       "Test2                      500\n",
       "Test3                      500\n",
       "Attendance                 500\n",
       "Interest                     0\n",
       "Attrition                    0\n",
       "Teacher_feedback            33\n",
       "Study Hours per Week         0\n",
       "Health Status                0\n",
       "Distance_From_Institute    100\n",
       "Gender                       0\n",
       "dtype: int64"
      ]
     },
     "execution_count": 4,
     "metadata": {},
     "output_type": "execute_result"
    }
   ],
   "source": [
    "df.isnull().sum()#cheak null values"
   ]
  },
  {
   "cell_type": "code",
   "execution_count": 5,
   "id": "77222657",
   "metadata": {},
   "outputs": [
    {
     "data": {
      "text/plain": [
       "62.366848969289016"
      ]
     },
     "execution_count": 5,
     "metadata": {},
     "output_type": "execute_result"
    }
   ],
   "source": [
    "#now we cheak a mean of numerical column where missing values are present\n",
    "df[\"Test1\"].mean()"
   ]
  },
  {
   "cell_type": "code",
   "execution_count": 6,
   "id": "df0e13e6",
   "metadata": {},
   "outputs": [
    {
     "data": {
      "text/plain": [
       "59.898736842105265"
      ]
     },
     "execution_count": 6,
     "metadata": {},
     "output_type": "execute_result"
    }
   ],
   "source": [
    "df[\"Test2\"].mean()"
   ]
  },
  {
   "cell_type": "code",
   "execution_count": 7,
   "id": "0712d106",
   "metadata": {},
   "outputs": [
    {
     "data": {
      "text/plain": [
       "59.87884210526316"
      ]
     },
     "execution_count": 7,
     "metadata": {},
     "output_type": "execute_result"
    }
   ],
   "source": [
    "df[\"Test3\"].mean()"
   ]
  },
  {
   "cell_type": "code",
   "execution_count": 8,
   "id": "045fb12d",
   "metadata": {},
   "outputs": [
    {
     "data": {
      "text/plain": [
       "66.028"
      ]
     },
     "execution_count": 8,
     "metadata": {},
     "output_type": "execute_result"
    }
   ],
   "source": [
    "df[\"Attendance\"].mean()"
   ]
  },
  {
   "cell_type": "code",
   "execution_count": 9,
   "id": "cd0e3bc5",
   "metadata": {},
   "outputs": [
    {
     "data": {
      "text/plain": [
       "9.999597850448385"
      ]
     },
     "execution_count": 9,
     "metadata": {},
     "output_type": "execute_result"
    }
   ],
   "source": [
    "df[\"Distance_From_Institute\"].mean()"
   ]
  },
  {
   "cell_type": "code",
   "execution_count": 10,
   "id": "8f727aef",
   "metadata": {},
   "outputs": [],
   "source": [
    "#use simple imputer to fill null values\n",
    "from sklearn.impute import SimpleImputer\n",
    "si = SimpleImputer(strategy='mean')"
   ]
  },
  {
   "cell_type": "code",
   "execution_count": 11,
   "id": "ff7e08c1",
   "metadata": {},
   "outputs": [],
   "source": [
    "Num_column = [\"Test1\",\"Test2\",\"Test3\",\"Attendance\",\"Distance_From_Institute\"]"
   ]
  },
  {
   "cell_type": "code",
   "execution_count": 12,
   "id": "cb2fdf2a",
   "metadata": {},
   "outputs": [],
   "source": [
    "# Fit the imputer on the numerical columns and transform the DataFrame\n",
    "df[Num_column] = si.fit_transform(df[Num_column])"
   ]
  },
  {
   "cell_type": "code",
   "execution_count": 13,
   "id": "461addae",
   "metadata": {},
   "outputs": [
    {
     "data": {
      "text/plain": [
       "Test1                      0.0000\n",
       "Test2                      0.0000\n",
       "Test3                      0.0000\n",
       "Attendance                 0.0000\n",
       "Interest                   0.0000\n",
       "Attrition                  0.0000\n",
       "Teacher_feedback           0.0033\n",
       "Study Hours per Week       0.0000\n",
       "Health Status              0.0000\n",
       "Distance_From_Institute    0.0000\n",
       "Gender                     0.0000\n",
       "dtype: float64"
      ]
     },
     "execution_count": 13,
     "metadata": {},
     "output_type": "execute_result"
    }
   ],
   "source": [
    "df.isnull().sum()/len(df)#cheak null values in percentage"
   ]
  },
  {
   "cell_type": "code",
   "execution_count": 14,
   "id": "839133bb",
   "metadata": {},
   "outputs": [
    {
     "data": {
      "text/plain": [
       "Test1                      0.0\n",
       "Test2                      0.0\n",
       "Test3                      0.0\n",
       "Attendance                 0.0\n",
       "Interest                   0.0\n",
       "Attrition                  0.0\n",
       "Teacher_feedback           0.0\n",
       "Study Hours per Week       0.0\n",
       "Health Status              0.0\n",
       "Distance_From_Institute    0.0\n",
       "Gender                     0.0\n",
       "dtype: float64"
      ]
     },
     "execution_count": 14,
     "metadata": {},
     "output_type": "execute_result"
    }
   ],
   "source": [
    "#now only Teacher column is remaining so we use forward fill\n",
    "df.ffill(inplace=True)\n",
    "df.isnull().sum()/len(df)"
   ]
  },
  {
   "cell_type": "code",
   "execution_count": 15,
   "id": "17282e9a",
   "metadata": {},
   "outputs": [
    {
     "data": {
      "text/html": [
       "<div>\n",
       "<style scoped>\n",
       "    .dataframe tbody tr th:only-of-type {\n",
       "        vertical-align: middle;\n",
       "    }\n",
       "\n",
       "    .dataframe tbody tr th {\n",
       "        vertical-align: top;\n",
       "    }\n",
       "\n",
       "    .dataframe thead th {\n",
       "        text-align: right;\n",
       "    }\n",
       "</style>\n",
       "<table border=\"1\" class=\"dataframe\">\n",
       "  <thead>\n",
       "    <tr style=\"text-align: right;\">\n",
       "      <th></th>\n",
       "      <th>Test1</th>\n",
       "      <th>Test2</th>\n",
       "      <th>Test3</th>\n",
       "      <th>Attendance</th>\n",
       "      <th>Study Hours per Week</th>\n",
       "      <th>Distance_From_Institute</th>\n",
       "    </tr>\n",
       "  </thead>\n",
       "  <tbody>\n",
       "    <tr>\n",
       "      <th>count</th>\n",
       "      <td>10000.000000</td>\n",
       "      <td>10000.000000</td>\n",
       "      <td>10000.000000</td>\n",
       "      <td>10000.000000</td>\n",
       "      <td>10000.000000</td>\n",
       "      <td>10000.000000</td>\n",
       "    </tr>\n",
       "    <tr>\n",
       "      <th>mean</th>\n",
       "      <td>62.366849</td>\n",
       "      <td>59.898737</td>\n",
       "      <td>59.878842</td>\n",
       "      <td>66.028000</td>\n",
       "      <td>10.066600</td>\n",
       "      <td>9.999598</td>\n",
       "    </tr>\n",
       "    <tr>\n",
       "      <th>std</th>\n",
       "      <td>30.128651</td>\n",
       "      <td>25.293806</td>\n",
       "      <td>25.268166</td>\n",
       "      <td>29.496648</td>\n",
       "      <td>5.504234</td>\n",
       "      <td>5.039292</td>\n",
       "    </tr>\n",
       "    <tr>\n",
       "      <th>min</th>\n",
       "      <td>0.000000</td>\n",
       "      <td>0.000000</td>\n",
       "      <td>0.000000</td>\n",
       "      <td>0.000000</td>\n",
       "      <td>1.000000</td>\n",
       "      <td>-8.905131</td>\n",
       "    </tr>\n",
       "    <tr>\n",
       "      <th>25%</th>\n",
       "      <td>45.000000</td>\n",
       "      <td>44.000000</td>\n",
       "      <td>44.000000</td>\n",
       "      <td>63.000000</td>\n",
       "      <td>5.000000</td>\n",
       "      <td>6.626184</td>\n",
       "    </tr>\n",
       "    <tr>\n",
       "      <th>50%</th>\n",
       "      <td>62.366849</td>\n",
       "      <td>60.000000</td>\n",
       "      <td>60.000000</td>\n",
       "      <td>74.000000</td>\n",
       "      <td>10.000000</td>\n",
       "      <td>9.999598</td>\n",
       "    </tr>\n",
       "    <tr>\n",
       "      <th>75%</th>\n",
       "      <td>82.000000</td>\n",
       "      <td>80.000000</td>\n",
       "      <td>80.000000</td>\n",
       "      <td>87.000000</td>\n",
       "      <td>15.000000</td>\n",
       "      <td>13.406809</td>\n",
       "    </tr>\n",
       "    <tr>\n",
       "      <th>max</th>\n",
       "      <td>199.000000</td>\n",
       "      <td>100.000000</td>\n",
       "      <td>100.000000</td>\n",
       "      <td>100.000000</td>\n",
       "      <td>19.000000</td>\n",
       "      <td>29.692515</td>\n",
       "    </tr>\n",
       "  </tbody>\n",
       "</table>\n",
       "</div>"
      ],
      "text/plain": [
       "              Test1         Test2         Test3    Attendance  \\\n",
       "count  10000.000000  10000.000000  10000.000000  10000.000000   \n",
       "mean      62.366849     59.898737     59.878842     66.028000   \n",
       "std       30.128651     25.293806     25.268166     29.496648   \n",
       "min        0.000000      0.000000      0.000000      0.000000   \n",
       "25%       45.000000     44.000000     44.000000     63.000000   \n",
       "50%       62.366849     60.000000     60.000000     74.000000   \n",
       "75%       82.000000     80.000000     80.000000     87.000000   \n",
       "max      199.000000    100.000000    100.000000    100.000000   \n",
       "\n",
       "       Study Hours per Week  Distance_From_Institute  \n",
       "count          10000.000000             10000.000000  \n",
       "mean              10.066600                 9.999598  \n",
       "std                5.504234                 5.039292  \n",
       "min                1.000000                -8.905131  \n",
       "25%                5.000000                 6.626184  \n",
       "50%               10.000000                 9.999598  \n",
       "75%               15.000000                13.406809  \n",
       "max               19.000000                29.692515  "
      ]
     },
     "execution_count": 15,
     "metadata": {},
     "output_type": "execute_result"
    }
   ],
   "source": [
    "#now we sucessfully handle Null values now we cheak for outlier\n",
    "df.describe()"
   ]
  },
  {
   "cell_type": "code",
   "execution_count": 16,
   "id": "b214729c",
   "metadata": {},
   "outputs": [
    {
     "data": {
      "text/plain": [
       "<Axes: xlabel='Test1'>"
      ]
     },
     "execution_count": 16,
     "metadata": {},
     "output_type": "execute_result"
    },
    {
     "data": {
      "image/png": "[encoded data removed]",
      "text/plain": [
       "<Figure size 640x480 with 1 Axes>"
      ]
     },
     "metadata": {},
     "output_type": "display_data"
    }
   ],
   "source": [
    "#there is max number is 199 in test 1 cheak using boxplot for more detail\n",
    "sns.boxplot(x='Test1',data=df)"
   ]
  },
  {
   "cell_type": "code",
   "execution_count": 17,
   "id": "f4b84ab3",
   "metadata": {},
   "outputs": [],
   "source": [
    "#we use Z_score\n",
    "# Calculate the Z-scores for the 'Test1' column\n",
    "z_scores = (df['Test1'] - df['Test1'].mean()) / df['Test1'].std()#formula of Z score\n",
    "threshold = 2\n",
    "outlier = (z_scores.abs() > threshold)\n",
    "df = df[~outlier]"
   ]
  },
  {
   "cell_type": "code",
   "execution_count": 18,
   "id": "db7c76e5",
   "metadata": {},
   "outputs": [
    {
     "data": {
      "text/plain": [
       "<Axes: xlabel='Test1'>"
      ]
     },
     "execution_count": 18,
     "metadata": {},
     "output_type": "execute_result"
    },
    {
     "data": {
      "image/png": "[encoded data removed]",
      "text/plain": [
       "<Figure size 640x480 with 1 Axes>"
      ]
     },
     "metadata": {},
     "output_type": "display_data"
    }
   ],
   "source": [
    "sns.boxplot(x='Test1',data=df)#now we dont have outlier"
   ]
  },
  {
   "cell_type": "code",
   "execution_count": 19,
   "id": "b18b954c",
   "metadata": {},
   "outputs": [
    {
     "data": {
      "text/plain": [
       "100.0"
      ]
     },
     "execution_count": 19,
     "metadata": {},
     "output_type": "execute_result"
    }
   ],
   "source": [
    "df[\"Test1\"].max()#maximun number is 100"
   ]
  },
  {
   "cell_type": "code",
   "execution_count": 20,
   "id": "0d65ae1b",
   "metadata": {},
   "outputs": [
    {
     "data": {
      "text/plain": [
       "(9640, 11)"
      ]
     },
     "execution_count": 20,
     "metadata": {},
     "output_type": "execute_result"
    }
   ],
   "source": [
    "df.shape"
   ]
  },
  {
   "cell_type": "code",
   "execution_count": 21,
   "id": "785dd9e4",
   "metadata": {},
   "outputs": [
    {
     "data": {
      "text/plain": [
       "<Axes: xlabel='Test2'>"
      ]
     },
     "execution_count": 21,
     "metadata": {},
     "output_type": "execute_result"
    },
    {
     "data": {
      "image/png": "[encoded data removed]",
      "text/plain": [
       "<Figure size 640x480 with 1 Axes>"
      ]
     },
     "metadata": {},
     "output_type": "display_data"
    }
   ],
   "source": [
    "#now we cheak for other column also\n",
    "sns.boxplot(x = \"Test2\",data = df)"
   ]
  },
  {
   "cell_type": "code",
   "execution_count": 22,
   "id": "c64e32f0",
   "metadata": {},
   "outputs": [
    {
     "data": {
      "text/plain": [
       "100.0"
      ]
     },
     "execution_count": 22,
     "metadata": {},
     "output_type": "execute_result"
    }
   ],
   "source": [
    "df[\"Test2\"].max()#max number is 100"
   ]
  },
  {
   "cell_type": "code",
   "execution_count": 23,
   "id": "9f6ae3ea",
   "metadata": {},
   "outputs": [
    {
     "data": {
      "text/plain": [
       "<Axes: xlabel='Test3'>"
      ]
     },
     "execution_count": 23,
     "metadata": {},
     "output_type": "execute_result"
    },
    {
     "data": {
      "image/png": "[encoded data removed]",
      "text/plain": [
       "<Figure size 640x480 with 1 Axes>"
      ]
     },
     "metadata": {},
     "output_type": "display_data"
    }
   ],
   "source": [
    "sns.boxplot(x ='Test3',data=df)"
   ]
  },
  {
   "cell_type": "code",
   "execution_count": 24,
   "id": "4c24600f",
   "metadata": {},
   "outputs": [
    {
     "data": {
      "text/plain": [
       "100.0"
      ]
     },
     "execution_count": 24,
     "metadata": {},
     "output_type": "execute_result"
    }
   ],
   "source": [
    "df[\"Test3\"].max()"
   ]
  },
  {
   "cell_type": "code",
   "execution_count": 25,
   "id": "58ed9bc0",
   "metadata": {},
   "outputs": [
    {
     "data": {
      "text/plain": [
       "<Axes: xlabel='Attendance'>"
      ]
     },
     "execution_count": 25,
     "metadata": {},
     "output_type": "execute_result"
    },
    {
     "data": {
      "image/png": "[encoded data removed]",
      "text/plain": [
       "<Figure size 640x480 with 1 Axes>"
      ]
     },
     "metadata": {},
     "output_type": "display_data"
    }
   ],
   "source": [
    "sns.boxplot(x ='Attendance',data=df)#in attendance column is ok and that outlier is important"
   ]
  },
  {
   "cell_type": "code",
   "execution_count": 26,
   "id": "8e64a2a5",
   "metadata": {},
   "outputs": [
    {
     "data": {
      "text/plain": [
       "<Axes: xlabel='Study Hours per Week'>"
      ]
     },
     "execution_count": 26,
     "metadata": {},
     "output_type": "execute_result"
    },
    {
     "data": {
      "image/png": "[encoded data removed]",
      "text/plain": [
       "<Figure size 640x480 with 1 Axes>"
      ]
     },
     "metadata": {},
     "output_type": "display_data"
    }
   ],
   "source": [
    "sns.boxplot(x ='Study Hours per Week',data=df)#no outlier is here"
   ]
  },
  {
   "cell_type": "code",
   "execution_count": 27,
   "id": "ee27704c",
   "metadata": {},
   "outputs": [
    {
     "data": {
      "text/plain": [
       "<Axes: xlabel='Distance_From_Institute'>"
      ]
     },
     "execution_count": 27,
     "metadata": {},
     "output_type": "execute_result"
    },
    {
     "data": {
      "image/png": "[encoded data removed]",
      "text/plain": [
       "<Figure size 640x480 with 1 Axes>"
      ]
     },
     "metadata": {},
     "output_type": "display_data"
    }
   ],
   "source": [
    "sns.boxplot(x ='Distance_From_Institute',data=df)"
   ]
  },
  {
   "cell_type": "code",
   "execution_count": 28,
   "id": "1848aab9",
   "metadata": {},
   "outputs": [],
   "source": [
    "# so according to boxplot we have getting negative value in distance column\n",
    "# so we adjust that using absolute function\n",
    "df['Distance_From_Institute'] = df['Distance_From_Institute'].abs()"
   ]
  },
  {
   "cell_type": "code",
   "execution_count": 29,
   "id": "fba21667",
   "metadata": {},
   "outputs": [
    {
     "data": {
      "text/plain": [
       "<Axes: xlabel='Distance_From_Institute'>"
      ]
     },
     "execution_count": 29,
     "metadata": {},
     "output_type": "execute_result"
    },
    {
     "data": {
      "image/png": "[encoded data removed]",
      "text/plain": [
       "<Figure size 640x480 with 1 Axes>"
      ]
     },
     "metadata": {},
     "output_type": "display_data"
    }
   ],
   "source": [
    "sns.boxplot(x='Distance_From_Institute',data=df)"
   ]
  },
  {
   "cell_type": "code",
   "execution_count": 30,
   "id": "534a58c6",
   "metadata": {},
   "outputs": [
    {
     "data": {
      "text/plain": [
       "29.04582553608971"
      ]
     },
     "execution_count": 30,
     "metadata": {},
     "output_type": "execute_result"
    }
   ],
   "source": [
    "df['Distance_From_Institute'].max()#approximately 30km is fine"
   ]
  },
  {
   "cell_type": "code",
   "execution_count": 31,
   "id": "89ba45fd",
   "metadata": {},
   "outputs": [
    {
     "data": {
      "text/plain": [
       "Index(['Test1', 'Test2', 'Test3', 'Attendance', 'Interest', 'Attrition',\n",
       "       'Teacher_feedback', 'Study Hours per Week', 'Health Status',\n",
       "       'Distance_From_Institute', 'Gender'],\n",
       "      dtype='object')"
      ]
     },
     "execution_count": 31,
     "metadata": {},
     "output_type": "execute_result"
    }
   ],
   "source": [
    "df.columns"
   ]
  },
  {
   "cell_type": "code",
   "execution_count": 32,
   "id": "9ac6c41e",
   "metadata": {},
   "outputs": [
    {
     "data": {
      "text/html": [
       "<div>\n",
       "<style scoped>\n",
       "    .dataframe tbody tr th:only-of-type {\n",
       "        vertical-align: middle;\n",
       "    }\n",
       "\n",
       "    .dataframe tbody tr th {\n",
       "        vertical-align: top;\n",
       "    }\n",
       "\n",
       "    .dataframe thead th {\n",
       "        text-align: right;\n",
       "    }\n",
       "</style>\n",
       "<table border=\"1\" class=\"dataframe\">\n",
       "  <thead>\n",
       "    <tr style=\"text-align: right;\">\n",
       "      <th></th>\n",
       "      <th>Test1</th>\n",
       "      <th>Test2</th>\n",
       "      <th>Test3</th>\n",
       "      <th>Attendance</th>\n",
       "      <th>Interest</th>\n",
       "      <th>Attrition</th>\n",
       "      <th>Teacher_feedback</th>\n",
       "      <th>Study Hours per Week</th>\n",
       "      <th>Health Status</th>\n",
       "      <th>Distance_From_Institute</th>\n",
       "      <th>Gender</th>\n",
       "    </tr>\n",
       "  </thead>\n",
       "  <tbody>\n",
       "    <tr>\n",
       "      <th>9192</th>\n",
       "      <td>58.0</td>\n",
       "      <td>59.0</td>\n",
       "      <td>75.0</td>\n",
       "      <td>74.0</td>\n",
       "      <td>Medium</td>\n",
       "      <td>No</td>\n",
       "      <td>Your consistent focus on improvement is eviden...</td>\n",
       "      <td>5</td>\n",
       "      <td>Average</td>\n",
       "      <td>5.865267</td>\n",
       "      <td>Male</td>\n",
       "    </tr>\n",
       "    <tr>\n",
       "      <th>70</th>\n",
       "      <td>67.0</td>\n",
       "      <td>66.0</td>\n",
       "      <td>60.0</td>\n",
       "      <td>67.0</td>\n",
       "      <td>Low</td>\n",
       "      <td>No</td>\n",
       "      <td>Your commitment to personal and academic growt...</td>\n",
       "      <td>15</td>\n",
       "      <td>Average</td>\n",
       "      <td>11.683672</td>\n",
       "      <td>Male</td>\n",
       "    </tr>\n",
       "    <tr>\n",
       "      <th>337</th>\n",
       "      <td>70.0</td>\n",
       "      <td>56.0</td>\n",
       "      <td>66.0</td>\n",
       "      <td>82.0</td>\n",
       "      <td>High</td>\n",
       "      <td>No</td>\n",
       "      <td>Your recent project showcases creativity and t...</td>\n",
       "      <td>10</td>\n",
       "      <td>Average</td>\n",
       "      <td>8.544387</td>\n",
       "      <td>Male</td>\n",
       "    </tr>\n",
       "    <tr>\n",
       "      <th>4468</th>\n",
       "      <td>93.0</td>\n",
       "      <td>45.0</td>\n",
       "      <td>53.0</td>\n",
       "      <td>65.0</td>\n",
       "      <td>Low</td>\n",
       "      <td>No</td>\n",
       "      <td>A more proactive and structured approach is re...</td>\n",
       "      <td>6</td>\n",
       "      <td>Average</td>\n",
       "      <td>9.094764</td>\n",
       "      <td>Male</td>\n",
       "    </tr>\n",
       "    <tr>\n",
       "      <th>998</th>\n",
       "      <td>76.0</td>\n",
       "      <td>53.0</td>\n",
       "      <td>96.0</td>\n",
       "      <td>90.0</td>\n",
       "      <td>High</td>\n",
       "      <td>No</td>\n",
       "      <td>Your dedication to continuous learning is admi...</td>\n",
       "      <td>3</td>\n",
       "      <td>Average</td>\n",
       "      <td>10.429359</td>\n",
       "      <td>Male</td>\n",
       "    </tr>\n",
       "  </tbody>\n",
       "</table>\n",
       "</div>"
      ],
      "text/plain": [
       "      Test1  Test2  Test3  Attendance Interest Attrition  \\\n",
       "9192   58.0   59.0   75.0        74.0   Medium        No   \n",
       "70     67.0   66.0   60.0        67.0      Low        No   \n",
       "337    70.0   56.0   66.0        82.0     High        No   \n",
       "4468   93.0   45.0   53.0        65.0      Low        No   \n",
       "998    76.0   53.0   96.0        90.0     High        No   \n",
       "\n",
       "                                       Teacher_feedback  Study Hours per Week  \\\n",
       "9192  Your consistent focus on improvement is eviden...                     5   \n",
       "70    Your commitment to personal and academic growt...                    15   \n",
       "337   Your recent project showcases creativity and t...                    10   \n",
       "4468  A more proactive and structured approach is re...                     6   \n",
       "998   Your dedication to continuous learning is admi...                     3   \n",
       "\n",
       "     Health Status  Distance_From_Institute Gender  \n",
       "9192       Average                 5.865267   Male  \n",
       "70         Average                11.683672   Male  \n",
       "337        Average                 8.544387   Male  \n",
       "4468       Average                 9.094764   Male  \n",
       "998        Average                10.429359   Male  "
      ]
     },
     "execution_count": 32,
     "metadata": {},
     "output_type": "execute_result"
    }
   ],
   "source": [
    "df.sample(5)"
   ]
  },
  {
   "cell_type": "code",
   "execution_count": 33,
   "id": "1544f487",
   "metadata": {},
   "outputs": [
    {
     "data": {
      "text/html": [
       "<div>\n",
       "<style scoped>\n",
       "    .dataframe tbody tr th:only-of-type {\n",
       "        vertical-align: middle;\n",
       "    }\n",
       "\n",
       "    .dataframe tbody tr th {\n",
       "        vertical-align: top;\n",
       "    }\n",
       "\n",
       "    .dataframe thead th {\n",
       "        text-align: right;\n",
       "    }\n",
       "</style>\n",
       "<table border=\"1\" class=\"dataframe\">\n",
       "  <thead>\n",
       "    <tr style=\"text-align: right;\">\n",
       "      <th></th>\n",
       "      <th>Test1</th>\n",
       "      <th>Test2</th>\n",
       "      <th>Test3</th>\n",
       "      <th>Attendance</th>\n",
       "      <th>Interest</th>\n",
       "      <th>Attrition</th>\n",
       "      <th>Teacher_feedback</th>\n",
       "      <th>Study Hours per Week</th>\n",
       "      <th>Health Status</th>\n",
       "      <th>Distance_From_Institute</th>\n",
       "      <th>Gender</th>\n",
       "    </tr>\n",
       "  </thead>\n",
       "  <tbody>\n",
       "    <tr>\n",
       "      <th>3827</th>\n",
       "      <td>97.0</td>\n",
       "      <td>98.0</td>\n",
       "      <td>93.0</td>\n",
       "      <td>78.0</td>\n",
       "      <td>Medium</td>\n",
       "      <td>No</td>\n",
       "      <td>Your engagement in class discussions is apprec...</td>\n",
       "      <td>16</td>\n",
       "      <td>Poor</td>\n",
       "      <td>16.586661</td>\n",
       "      <td>1</td>\n",
       "    </tr>\n",
       "    <tr>\n",
       "      <th>5423</th>\n",
       "      <td>68.0</td>\n",
       "      <td>45.0</td>\n",
       "      <td>45.0</td>\n",
       "      <td>85.0</td>\n",
       "      <td>High</td>\n",
       "      <td>No</td>\n",
       "      <td>Your collaborative efforts could be more impac...</td>\n",
       "      <td>8</td>\n",
       "      <td>Average</td>\n",
       "      <td>9.999598</td>\n",
       "      <td>1</td>\n",
       "    </tr>\n",
       "  </tbody>\n",
       "</table>\n",
       "</div>"
      ],
      "text/plain": [
       "      Test1  Test2  Test3  Attendance Interest Attrition  \\\n",
       "3827   97.0   98.0   93.0        78.0   Medium        No   \n",
       "5423   68.0   45.0   45.0        85.0     High        No   \n",
       "\n",
       "                                       Teacher_feedback  Study Hours per Week  \\\n",
       "3827  Your engagement in class discussions is apprec...                    16   \n",
       "5423  Your collaborative efforts could be more impac...                     8   \n",
       "\n",
       "     Health Status  Distance_From_Institute  Gender  \n",
       "3827          Poor                16.586661       1  \n",
       "5423       Average                 9.999598       1  "
      ]
     },
     "execution_count": 33,
     "metadata": {},
     "output_type": "execute_result"
    }
   ],
   "source": [
    "#convert Gender column in number\n",
    "df['Gender'] = df['Gender'].map({'Male': 1, 'Female': 0})\n",
    "df.sample(2)"
   ]
  },
  {
   "cell_type": "code",
   "execution_count": 34,
   "id": "0f587162",
   "metadata": {},
   "outputs": [],
   "source": [
    "#use label encoding to convert Attrition column into number\n",
    "from sklearn.preprocessing import LabelEncoder\n",
    "\n",
    "label_encoder = LabelEncoder()\n",
    "\n",
    "df['Attrition'] = label_encoder.fit_transform(df['Attrition'])\n"
   ]
  },
  {
   "cell_type": "code",
   "execution_count": 35,
   "id": "e1716572",
   "metadata": {},
   "outputs": [
    {
     "data": {
      "text/html": [
       "<div>\n",
       "<style scoped>\n",
       "    .dataframe tbody tr th:only-of-type {\n",
       "        vertical-align: middle;\n",
       "    }\n",
       "\n",
       "    .dataframe tbody tr th {\n",
       "        vertical-align: top;\n",
       "    }\n",
       "\n",
       "    .dataframe thead th {\n",
       "        text-align: right;\n",
       "    }\n",
       "</style>\n",
       "<table border=\"1\" class=\"dataframe\">\n",
       "  <thead>\n",
       "    <tr style=\"text-align: right;\">\n",
       "      <th></th>\n",
       "      <th>Test1</th>\n",
       "      <th>Test2</th>\n",
       "      <th>Test3</th>\n",
       "      <th>Attendance</th>\n",
       "      <th>Interest</th>\n",
       "      <th>Attrition</th>\n",
       "      <th>Teacher_feedback</th>\n",
       "      <th>Study Hours per Week</th>\n",
       "      <th>Health Status</th>\n",
       "      <th>Distance_From_Institute</th>\n",
       "      <th>Gender</th>\n",
       "    </tr>\n",
       "  </thead>\n",
       "  <tbody>\n",
       "    <tr>\n",
       "      <th>854</th>\n",
       "      <td>97.0</td>\n",
       "      <td>74.0</td>\n",
       "      <td>60.0</td>\n",
       "      <td>90.0</td>\n",
       "      <td>High</td>\n",
       "      <td>0</td>\n",
       "      <td>Your engagement in class discussions is apprec...</td>\n",
       "      <td>2</td>\n",
       "      <td>Good</td>\n",
       "      <td>11.480500</td>\n",
       "      <td>0</td>\n",
       "    </tr>\n",
       "    <tr>\n",
       "      <th>2522</th>\n",
       "      <td>4.0</td>\n",
       "      <td>30.0</td>\n",
       "      <td>12.0</td>\n",
       "      <td>8.0</td>\n",
       "      <td>Low</td>\n",
       "      <td>1</td>\n",
       "      <td>Your positive contributions to class discussio...</td>\n",
       "      <td>15</td>\n",
       "      <td>Average</td>\n",
       "      <td>10.246294</td>\n",
       "      <td>1</td>\n",
       "    </tr>\n",
       "  </tbody>\n",
       "</table>\n",
       "</div>"
      ],
      "text/plain": [
       "      Test1  Test2  Test3  Attendance Interest  Attrition  \\\n",
       "854    97.0   74.0   60.0        90.0     High          0   \n",
       "2522    4.0   30.0   12.0         8.0      Low          1   \n",
       "\n",
       "                                       Teacher_feedback  Study Hours per Week  \\\n",
       "854   Your engagement in class discussions is apprec...                     2   \n",
       "2522  Your positive contributions to class discussio...                    15   \n",
       "\n",
       "     Health Status  Distance_From_Institute  Gender  \n",
       "854           Good                11.480500       0  \n",
       "2522       Average                10.246294       1  "
      ]
     },
     "execution_count": 35,
     "metadata": {},
     "output_type": "execute_result"
    }
   ],
   "source": [
    "df.sample(2)"
   ]
  },
  {
   "cell_type": "code",
   "execution_count": 36,
   "id": "69b2b3b3",
   "metadata": {},
   "outputs": [],
   "source": [
    "# now we convert interest and health status using ordinal encoder\n",
    "from sklearn.preprocessing import OrdinalEncoder\n",
    "\n",
    "ordinal_encoder = OrdinalEncoder(categories=[['Low', 'Medium', 'High'], ['Poor', 'Average', 'Good']])\n",
    "\n",
    "df[['Interest', 'Health Status']] = ordinal_encoder.fit_transform(df[['Interest', 'Health Status']])\n"
   ]
  },
  {
   "cell_type": "code",
   "execution_count": 37,
   "id": "1a477b65",
   "metadata": {},
   "outputs": [
    {
     "data": {
      "text/html": [
       "<div>\n",
       "<style scoped>\n",
       "    .dataframe tbody tr th:only-of-type {\n",
       "        vertical-align: middle;\n",
       "    }\n",
       "\n",
       "    .dataframe tbody tr th {\n",
       "        vertical-align: top;\n",
       "    }\n",
       "\n",
       "    .dataframe thead th {\n",
       "        text-align: right;\n",
       "    }\n",
       "</style>\n",
       "<table border=\"1\" class=\"dataframe\">\n",
       "  <thead>\n",
       "    <tr style=\"text-align: right;\">\n",
       "      <th></th>\n",
       "      <th>Test1</th>\n",
       "      <th>Test2</th>\n",
       "      <th>Test3</th>\n",
       "      <th>Attendance</th>\n",
       "      <th>Interest</th>\n",
       "      <th>Attrition</th>\n",
       "      <th>Teacher_feedback</th>\n",
       "      <th>Study Hours per Week</th>\n",
       "      <th>Health Status</th>\n",
       "      <th>Distance_From_Institute</th>\n",
       "      <th>Gender</th>\n",
       "    </tr>\n",
       "  </thead>\n",
       "  <tbody>\n",
       "    <tr>\n",
       "      <th>3498</th>\n",
       "      <td>64.0</td>\n",
       "      <td>58.0</td>\n",
       "      <td>62.0</td>\n",
       "      <td>87.0</td>\n",
       "      <td>2.0</td>\n",
       "      <td>0</td>\n",
       "      <td>Exceptional problem-solving skills; your criti...</td>\n",
       "      <td>1</td>\n",
       "      <td>0.0</td>\n",
       "      <td>6.666203</td>\n",
       "      <td>1</td>\n",
       "    </tr>\n",
       "    <tr>\n",
       "      <th>8119</th>\n",
       "      <td>24.0</td>\n",
       "      <td>17.0</td>\n",
       "      <td>19.0</td>\n",
       "      <td>6.0</td>\n",
       "      <td>0.0</td>\n",
       "      <td>1</td>\n",
       "      <td>Collaborative efforts could be more impactful ...</td>\n",
       "      <td>9</td>\n",
       "      <td>1.0</td>\n",
       "      <td>12.716959</td>\n",
       "      <td>0</td>\n",
       "    </tr>\n",
       "    <tr>\n",
       "      <th>5212</th>\n",
       "      <td>38.0</td>\n",
       "      <td>32.0</td>\n",
       "      <td>27.0</td>\n",
       "      <td>19.0</td>\n",
       "      <td>0.0</td>\n",
       "      <td>1</td>\n",
       "      <td>It seems there's room for improvement in your ...</td>\n",
       "      <td>12</td>\n",
       "      <td>2.0</td>\n",
       "      <td>4.753832</td>\n",
       "      <td>0</td>\n",
       "    </tr>\n",
       "    <tr>\n",
       "      <th>6895</th>\n",
       "      <td>59.0</td>\n",
       "      <td>93.0</td>\n",
       "      <td>60.0</td>\n",
       "      <td>87.0</td>\n",
       "      <td>2.0</td>\n",
       "      <td>0</td>\n",
       "      <td>Consistency in effort is key for sustained imp...</td>\n",
       "      <td>1</td>\n",
       "      <td>0.0</td>\n",
       "      <td>13.752838</td>\n",
       "      <td>0</td>\n",
       "    </tr>\n",
       "    <tr>\n",
       "      <th>5828</th>\n",
       "      <td>8.0</td>\n",
       "      <td>22.0</td>\n",
       "      <td>31.0</td>\n",
       "      <td>11.0</td>\n",
       "      <td>0.0</td>\n",
       "      <td>1</td>\n",
       "      <td>Your recent presentations are engaging; consid...</td>\n",
       "      <td>13</td>\n",
       "      <td>2.0</td>\n",
       "      <td>8.355762</td>\n",
       "      <td>0</td>\n",
       "    </tr>\n",
       "  </tbody>\n",
       "</table>\n",
       "</div>"
      ],
      "text/plain": [
       "      Test1  Test2  Test3  Attendance  Interest  Attrition  \\\n",
       "3498   64.0   58.0   62.0        87.0       2.0          0   \n",
       "8119   24.0   17.0   19.0         6.0       0.0          1   \n",
       "5212   38.0   32.0   27.0        19.0       0.0          1   \n",
       "6895   59.0   93.0   60.0        87.0       2.0          0   \n",
       "5828    8.0   22.0   31.0        11.0       0.0          1   \n",
       "\n",
       "                                       Teacher_feedback  Study Hours per Week  \\\n",
       "3498  Exceptional problem-solving skills; your criti...                     1   \n",
       "8119  Collaborative efforts could be more impactful ...                     9   \n",
       "5212  It seems there's room for improvement in your ...                    12   \n",
       "6895  Consistency in effort is key for sustained imp...                     1   \n",
       "5828  Your recent presentations are engaging; consid...                    13   \n",
       "\n",
       "      Health Status  Distance_From_Institute  Gender  \n",
       "3498            0.0                 6.666203       1  \n",
       "8119            1.0                12.716959       0  \n",
       "5212            2.0                 4.753832       0  \n",
       "6895            0.0                13.752838       0  \n",
       "5828            2.0                 8.355762       0  "
      ]
     },
     "execution_count": 37,
     "metadata": {},
     "output_type": "execute_result"
    }
   ],
   "source": [
    "df.sample(5)"
   ]
  },
  {
   "cell_type": "code",
   "execution_count": 38,
   "id": "7eecdc4e",
   "metadata": {},
   "outputs": [
    {
     "data": {
      "text/html": [
       "<div>\n",
       "<style scoped>\n",
       "    .dataframe tbody tr th:only-of-type {\n",
       "        vertical-align: middle;\n",
       "    }\n",
       "\n",
       "    .dataframe tbody tr th {\n",
       "        vertical-align: top;\n",
       "    }\n",
       "\n",
       "    .dataframe thead th {\n",
       "        text-align: right;\n",
       "    }\n",
       "</style>\n",
       "<table border=\"1\" class=\"dataframe\">\n",
       "  <thead>\n",
       "    <tr style=\"text-align: right;\">\n",
       "      <th></th>\n",
       "      <th>Test1</th>\n",
       "      <th>Test2</th>\n",
       "      <th>Test3</th>\n",
       "      <th>Attendance</th>\n",
       "      <th>Interest</th>\n",
       "      <th>Attrition</th>\n",
       "      <th>Study Hours per Week</th>\n",
       "      <th>Health Status</th>\n",
       "      <th>Distance_From_Institute</th>\n",
       "      <th>Gender</th>\n",
       "    </tr>\n",
       "  </thead>\n",
       "  <tbody>\n",
       "    <tr>\n",
       "      <th>Test1</th>\n",
       "      <td>1.000000</td>\n",
       "      <td>0.573389</td>\n",
       "      <td>0.575360</td>\n",
       "      <td>0.706659</td>\n",
       "      <td>0.417787</td>\n",
       "      <td>-0.716961</td>\n",
       "      <td>0.019471</td>\n",
       "      <td>0.004584</td>\n",
       "      <td>0.016956</td>\n",
       "      <td>0.005715</td>\n",
       "    </tr>\n",
       "    <tr>\n",
       "      <th>Test2</th>\n",
       "      <td>0.573389</td>\n",
       "      <td>1.000000</td>\n",
       "      <td>0.575726</td>\n",
       "      <td>0.700833</td>\n",
       "      <td>0.418666</td>\n",
       "      <td>-0.712567</td>\n",
       "      <td>0.003493</td>\n",
       "      <td>0.010488</td>\n",
       "      <td>0.009697</td>\n",
       "      <td>0.001582</td>\n",
       "    </tr>\n",
       "    <tr>\n",
       "      <th>Test3</th>\n",
       "      <td>0.575360</td>\n",
       "      <td>0.575726</td>\n",
       "      <td>1.000000</td>\n",
       "      <td>0.706916</td>\n",
       "      <td>0.414932</td>\n",
       "      <td>-0.716228</td>\n",
       "      <td>0.015565</td>\n",
       "      <td>0.002641</td>\n",
       "      <td>0.008039</td>\n",
       "      <td>-0.003030</td>\n",
       "    </tr>\n",
       "    <tr>\n",
       "      <th>Attendance</th>\n",
       "      <td>0.706659</td>\n",
       "      <td>0.700833</td>\n",
       "      <td>0.706916</td>\n",
       "      <td>1.000000</td>\n",
       "      <td>0.771239</td>\n",
       "      <td>-0.860724</td>\n",
       "      <td>0.021529</td>\n",
       "      <td>-0.008542</td>\n",
       "      <td>0.016968</td>\n",
       "      <td>0.002472</td>\n",
       "    </tr>\n",
       "    <tr>\n",
       "      <th>Interest</th>\n",
       "      <td>0.417787</td>\n",
       "      <td>0.418666</td>\n",
       "      <td>0.414932</td>\n",
       "      <td>0.771239</td>\n",
       "      <td>1.000000</td>\n",
       "      <td>-0.619427</td>\n",
       "      <td>0.016714</td>\n",
       "      <td>-0.011693</td>\n",
       "      <td>0.010947</td>\n",
       "      <td>0.006635</td>\n",
       "    </tr>\n",
       "    <tr>\n",
       "      <th>Attrition</th>\n",
       "      <td>-0.716961</td>\n",
       "      <td>-0.712567</td>\n",
       "      <td>-0.716228</td>\n",
       "      <td>-0.860724</td>\n",
       "      <td>-0.619427</td>\n",
       "      <td>1.000000</td>\n",
       "      <td>-0.013066</td>\n",
       "      <td>0.007705</td>\n",
       "      <td>-0.011042</td>\n",
       "      <td>0.002588</td>\n",
       "    </tr>\n",
       "    <tr>\n",
       "      <th>Study Hours per Week</th>\n",
       "      <td>0.019471</td>\n",
       "      <td>0.003493</td>\n",
       "      <td>0.015565</td>\n",
       "      <td>0.021529</td>\n",
       "      <td>0.016714</td>\n",
       "      <td>-0.013066</td>\n",
       "      <td>1.000000</td>\n",
       "      <td>0.003592</td>\n",
       "      <td>-0.003205</td>\n",
       "      <td>-0.008403</td>\n",
       "    </tr>\n",
       "    <tr>\n",
       "      <th>Health Status</th>\n",
       "      <td>0.004584</td>\n",
       "      <td>0.010488</td>\n",
       "      <td>0.002641</td>\n",
       "      <td>-0.008542</td>\n",
       "      <td>-0.011693</td>\n",
       "      <td>0.007705</td>\n",
       "      <td>0.003592</td>\n",
       "      <td>1.000000</td>\n",
       "      <td>-0.005736</td>\n",
       "      <td>-0.007829</td>\n",
       "    </tr>\n",
       "    <tr>\n",
       "      <th>Distance_From_Institute</th>\n",
       "      <td>0.016956</td>\n",
       "      <td>0.009697</td>\n",
       "      <td>0.008039</td>\n",
       "      <td>0.016968</td>\n",
       "      <td>0.010947</td>\n",
       "      <td>-0.011042</td>\n",
       "      <td>-0.003205</td>\n",
       "      <td>-0.005736</td>\n",
       "      <td>1.000000</td>\n",
       "      <td>0.018366</td>\n",
       "    </tr>\n",
       "    <tr>\n",
       "      <th>Gender</th>\n",
       "      <td>0.005715</td>\n",
       "      <td>0.001582</td>\n",
       "      <td>-0.003030</td>\n",
       "      <td>0.002472</td>\n",
       "      <td>0.006635</td>\n",
       "      <td>0.002588</td>\n",
       "      <td>-0.008403</td>\n",
       "      <td>-0.007829</td>\n",
       "      <td>0.018366</td>\n",
       "      <td>1.000000</td>\n",
       "    </tr>\n",
       "  </tbody>\n",
       "</table>\n",
       "</div>"
      ],
      "text/plain": [
       "                            Test1     Test2     Test3  Attendance  Interest  \\\n",
       "Test1                    1.000000  0.573389  0.575360    0.706659  0.417787   \n",
       "Test2                    0.573389  1.000000  0.575726    0.700833  0.418666   \n",
       "Test3                    0.575360  0.575726  1.000000    0.706916  0.414932   \n",
       "Attendance               0.706659  0.700833  0.706916    1.000000  0.771239   \n",
       "Interest                 0.417787  0.418666  0.414932    0.771239  1.000000   \n",
       "Attrition               -0.716961 -0.712567 -0.716228   -0.860724 -0.619427   \n",
       "Study Hours per Week     0.019471  0.003493  0.015565    0.021529  0.016714   \n",
       "Health Status            0.004584  0.010488  0.002641   -0.008542 -0.011693   \n",
       "Distance_From_Institute  0.016956  0.009697  0.008039    0.016968  0.010947   \n",
       "Gender                   0.005715  0.001582 -0.003030    0.002472  0.006635   \n",
       "\n",
       "                         Attrition  Study Hours per Week  Health Status  \\\n",
       "Test1                    -0.716961              0.019471       0.004584   \n",
       "Test2                    -0.712567              0.003493       0.010488   \n",
       "Test3                    -0.716228              0.015565       0.002641   \n",
       "Attendance               -0.860724              0.021529      -0.008542   \n",
       "Interest                 -0.619427              0.016714      -0.011693   \n",
       "Attrition                 1.000000             -0.013066       0.007705   \n",
       "Study Hours per Week     -0.013066              1.000000       0.003592   \n",
       "Health Status             0.007705              0.003592       1.000000   \n",
       "Distance_From_Institute  -0.011042             -0.003205      -0.005736   \n",
       "Gender                    0.002588             -0.008403      -0.007829   \n",
       "\n",
       "                         Distance_From_Institute    Gender  \n",
       "Test1                                   0.016956  0.005715  \n",
       "Test2                                   0.009697  0.001582  \n",
       "Test3                                   0.008039 -0.003030  \n",
       "Attendance                              0.016968  0.002472  \n",
       "Interest                                0.010947  0.006635  \n",
       "Attrition                              -0.011042  0.002588  \n",
       "Study Hours per Week                   -0.003205 -0.008403  \n",
       "Health Status                          -0.005736 -0.007829  \n",
       "Distance_From_Institute                 1.000000  0.018366  \n",
       "Gender                                  0.018366  1.000000  "
      ]
     },
     "execution_count": 38,
     "metadata": {},
     "output_type": "execute_result"
    }
   ],
   "source": [
    "df.corr()"
   ]
  },
  {
   "cell_type": "code",
   "execution_count": 39,
   "id": "7a3966db",
   "metadata": {},
   "outputs": [
    {
     "name": "stdout",
     "output_type": "stream",
     "text": [
      "               Test1     Test2     Test3  Interest  Attrition  Attendance\n",
      "Test1       1.000000  0.573389  0.575360  0.417787  -0.716961    0.706659\n",
      "Test2       0.573389  1.000000  0.575726  0.418666  -0.712567    0.700833\n",
      "Test3       0.575360  0.575726  1.000000  0.414932  -0.716228    0.706916\n",
      "Interest    0.417787  0.418666  0.414932  1.000000  -0.619427    0.771239\n",
      "Attrition  -0.716961 -0.712567 -0.716228 -0.619427   1.000000   -0.860724\n",
      "Attendance  0.706659  0.700833  0.706916  0.771239  -0.860724    1.000000\n"
     ]
    }
   ],
   "source": [
    "\n",
    "correlation_matrix = df[['Test1', 'Test2','Test3', 'Interest', 'Attrition',\"Attendance\"]].corr()\n",
    "print(correlation_matrix)\n",
    "#cheaking correlation using correlation matrix"
   ]
  },
  {
   "cell_type": "code",
   "execution_count": 40,
   "id": "18e431c8",
   "metadata": {},
   "outputs": [
    {
     "data": {
      "text/plain": [
       "(9640, 11)"
      ]
     },
     "execution_count": 40,
     "metadata": {},
     "output_type": "execute_result"
    }
   ],
   "source": [
    "df.shape"
   ]
  },
  {
   "cell_type": "code",
   "execution_count": 41,
   "id": "820d2bec",
   "metadata": {},
   "outputs": [
    {
     "data": {
      "text/plain": [
       "False    9640\n",
       "Name: Teacher_feedback, dtype: int64"
      ]
     },
     "execution_count": 41,
     "metadata": {},
     "output_type": "execute_result"
    }
   ],
   "source": [
    "#now we have only categorical column is Teacher_feedback for that we use NLP\n",
    "df[\"Teacher_feedback\"].isnull().value_counts()#cheaking for missing values in that column\n"
   ]
  },
  {
   "cell_type": "code",
   "execution_count": 42,
   "id": "e71ec1a7",
   "metadata": {},
   "outputs": [
    {
     "name": "stderr",
     "output_type": "stream",
     "text": [
      "[nltk_data] Downloading package vader_lexicon to\n",
      "[nltk_data]     C:\\Users\\Admin\\AppData\\Roaming\\nltk_data...\n",
      "[nltk_data]   Package vader_lexicon is already up-to-date!\n"
     ]
    },
    {
     "data": {
      "text/plain": [
       "True"
      ]
     },
     "execution_count": 42,
     "metadata": {},
     "output_type": "execute_result"
    }
   ],
   "source": [
    "import nltk\n",
    "nltk.download('vader_lexicon')"
   ]
  },
  {
   "cell_type": "code",
   "execution_count": 43,
   "id": "632ef7be",
   "metadata": {},
   "outputs": [],
   "source": [
    "import pandas as pd\n",
    "from nltk.sentiment.vader import SentimentIntensityAnalyzer\n",
    "\n",
    "sia = SentimentIntensityAnalyzer()\n"
   ]
  },
  {
   "cell_type": "code",
   "execution_count": 44,
   "id": "01fc08cb",
   "metadata": {},
   "outputs": [],
   "source": [
    "# Function to get sentiment score for a feedback\n",
    "def get_sentiment_score(feedback):\n",
    "    return sia.polarity_scores(feedback)['compound']\n"
   ]
  },
  {
   "cell_type": "code",
   "execution_count": 45,
   "id": "f72b80c4",
   "metadata": {},
   "outputs": [
    {
     "name": "stdout",
     "output_type": "stream",
     "text": [
      "                                       Teacher_feedback  sentiment_score\n",
      "0     Your recent presentation was solid; consider a...           0.1531\n",
      "1     Your recent presentations are engaging; consid...           0.3400\n",
      "2     Your problem-solving skills are strong; keep t...           0.5574\n",
      "4     Your recent presentations could benefit from m...           0.4588\n",
      "5     You have a positive attitude in class; aim to ...           0.5574\n",
      "...                                                 ...              ...\n",
      "9995  Your enthusiasm for learning is contagious. It...           0.5267\n",
      "9996  Your work is generally thoughtful; let's discu...           0.3818\n",
      "9997  Impressive work ethic! Your diligence in meeti...           0.5562\n",
      "9998  Your recent performance falls below expectatio...           0.4588\n",
      "9999  Well done on your recent project; let's build ...           0.7561\n",
      "\n",
      "[9640 rows x 2 columns]\n"
     ]
    }
   ],
   "source": [
    "# Apply sentiment analysis to the entire teacher feedback column\n",
    "df['sentiment_score'] = df['Teacher_feedback'].apply(get_sentiment_score)\n",
    "\n",
    "# Display the DataFrame with sentiment scores\n",
    "print(df[['Teacher_feedback', 'sentiment_score']])\n"
   ]
  },
  {
   "cell_type": "code",
   "execution_count": 46,
   "id": "69bb06a7",
   "metadata": {},
   "outputs": [
    {
     "data": {
      "text/html": [
       "<div>\n",
       "<style scoped>\n",
       "    .dataframe tbody tr th:only-of-type {\n",
       "        vertical-align: middle;\n",
       "    }\n",
       "\n",
       "    .dataframe tbody tr th {\n",
       "        vertical-align: top;\n",
       "    }\n",
       "\n",
       "    .dataframe thead th {\n",
       "        text-align: right;\n",
       "    }\n",
       "</style>\n",
       "<table border=\"1\" class=\"dataframe\">\n",
       "  <thead>\n",
       "    <tr style=\"text-align: right;\">\n",
       "      <th></th>\n",
       "      <th>Test1</th>\n",
       "      <th>Test2</th>\n",
       "      <th>Test3</th>\n",
       "      <th>Attendance</th>\n",
       "      <th>Interest</th>\n",
       "      <th>Attrition</th>\n",
       "      <th>Teacher_feedback</th>\n",
       "      <th>Study Hours per Week</th>\n",
       "      <th>Health Status</th>\n",
       "      <th>Distance_From_Institute</th>\n",
       "      <th>Gender</th>\n",
       "      <th>sentiment_score</th>\n",
       "    </tr>\n",
       "  </thead>\n",
       "  <tbody>\n",
       "    <tr>\n",
       "      <th>150</th>\n",
       "      <td>47.0</td>\n",
       "      <td>77.0</td>\n",
       "      <td>54.0</td>\n",
       "      <td>63.0</td>\n",
       "      <td>0.0</td>\n",
       "      <td>1</td>\n",
       "      <td>Your positive contributions create a collabora...</td>\n",
       "      <td>12</td>\n",
       "      <td>2.0</td>\n",
       "      <td>10.474149</td>\n",
       "      <td>0</td>\n",
       "      <td>0.6908</td>\n",
       "    </tr>\n",
       "    <tr>\n",
       "      <th>3123</th>\n",
       "      <td>29.0</td>\n",
       "      <td>22.0</td>\n",
       "      <td>35.0</td>\n",
       "      <td>16.0</td>\n",
       "      <td>0.0</td>\n",
       "      <td>1</td>\n",
       "      <td>Your positive influence in group settings is n...</td>\n",
       "      <td>13</td>\n",
       "      <td>1.0</td>\n",
       "      <td>16.020002</td>\n",
       "      <td>0</td>\n",
       "      <td>0.7845</td>\n",
       "    </tr>\n",
       "    <tr>\n",
       "      <th>5469</th>\n",
       "      <td>46.0</td>\n",
       "      <td>82.0</td>\n",
       "      <td>67.0</td>\n",
       "      <td>97.0</td>\n",
       "      <td>2.0</td>\n",
       "      <td>0</td>\n",
       "      <td>Outstanding effort! You consistently go above ...</td>\n",
       "      <td>1</td>\n",
       "      <td>1.0</td>\n",
       "      <td>8.130646</td>\n",
       "      <td>0</td>\n",
       "      <td>0.6476</td>\n",
       "    </tr>\n",
       "  </tbody>\n",
       "</table>\n",
       "</div>"
      ],
      "text/plain": [
       "      Test1  Test2  Test3  Attendance  Interest  Attrition  \\\n",
       "150    47.0   77.0   54.0        63.0       0.0          1   \n",
       "3123   29.0   22.0   35.0        16.0       0.0          1   \n",
       "5469   46.0   82.0   67.0        97.0       2.0          0   \n",
       "\n",
       "                                       Teacher_feedback  Study Hours per Week  \\\n",
       "150   Your positive contributions create a collabora...                    12   \n",
       "3123  Your positive influence in group settings is n...                    13   \n",
       "5469  Outstanding effort! You consistently go above ...                     1   \n",
       "\n",
       "      Health Status  Distance_From_Institute  Gender  sentiment_score  \n",
       "150             2.0                10.474149       0           0.6908  \n",
       "3123            1.0                16.020002       0           0.7845  \n",
       "5469            1.0                 8.130646       0           0.6476  "
      ]
     },
     "execution_count": 46,
     "metadata": {},
     "output_type": "execute_result"
    }
   ],
   "source": [
    "df.sample(3)"
   ]
  },
  {
   "cell_type": "code",
   "execution_count": 47,
   "id": "aee1580e",
   "metadata": {},
   "outputs": [
    {
     "data": {
      "text/html": [
       "<div>\n",
       "<style scoped>\n",
       "    .dataframe tbody tr th:only-of-type {\n",
       "        vertical-align: middle;\n",
       "    }\n",
       "\n",
       "    .dataframe tbody tr th {\n",
       "        vertical-align: top;\n",
       "    }\n",
       "\n",
       "    .dataframe thead th {\n",
       "        text-align: right;\n",
       "    }\n",
       "</style>\n",
       "<table border=\"1\" class=\"dataframe\">\n",
       "  <thead>\n",
       "    <tr style=\"text-align: right;\">\n",
       "      <th></th>\n",
       "      <th>Test1</th>\n",
       "      <th>Test2</th>\n",
       "      <th>Test3</th>\n",
       "      <th>Attendance</th>\n",
       "      <th>Interest</th>\n",
       "      <th>Attrition</th>\n",
       "      <th>Study Hours per Week</th>\n",
       "      <th>Health Status</th>\n",
       "      <th>Distance_From_Institute</th>\n",
       "      <th>Gender</th>\n",
       "      <th>sentiment_score</th>\n",
       "    </tr>\n",
       "  </thead>\n",
       "  <tbody>\n",
       "    <tr>\n",
       "      <th>Test1</th>\n",
       "      <td>1.000000</td>\n",
       "      <td>0.573389</td>\n",
       "      <td>0.575360</td>\n",
       "      <td>0.706659</td>\n",
       "      <td>0.417787</td>\n",
       "      <td>-0.716961</td>\n",
       "      <td>0.019471</td>\n",
       "      <td>0.004584</td>\n",
       "      <td>0.016956</td>\n",
       "      <td>0.005715</td>\n",
       "      <td>-0.005143</td>\n",
       "    </tr>\n",
       "    <tr>\n",
       "      <th>Test2</th>\n",
       "      <td>0.573389</td>\n",
       "      <td>1.000000</td>\n",
       "      <td>0.575726</td>\n",
       "      <td>0.700833</td>\n",
       "      <td>0.418666</td>\n",
       "      <td>-0.712567</td>\n",
       "      <td>0.003493</td>\n",
       "      <td>0.010488</td>\n",
       "      <td>0.009697</td>\n",
       "      <td>0.001582</td>\n",
       "      <td>-0.001813</td>\n",
       "    </tr>\n",
       "    <tr>\n",
       "      <th>Test3</th>\n",
       "      <td>0.575360</td>\n",
       "      <td>0.575726</td>\n",
       "      <td>1.000000</td>\n",
       "      <td>0.706916</td>\n",
       "      <td>0.414932</td>\n",
       "      <td>-0.716228</td>\n",
       "      <td>0.015565</td>\n",
       "      <td>0.002641</td>\n",
       "      <td>0.008039</td>\n",
       "      <td>-0.003030</td>\n",
       "      <td>0.007202</td>\n",
       "    </tr>\n",
       "    <tr>\n",
       "      <th>Attendance</th>\n",
       "      <td>0.706659</td>\n",
       "      <td>0.700833</td>\n",
       "      <td>0.706916</td>\n",
       "      <td>1.000000</td>\n",
       "      <td>0.771239</td>\n",
       "      <td>-0.860724</td>\n",
       "      <td>0.021529</td>\n",
       "      <td>-0.008542</td>\n",
       "      <td>0.016968</td>\n",
       "      <td>0.002472</td>\n",
       "      <td>-0.002059</td>\n",
       "    </tr>\n",
       "    <tr>\n",
       "      <th>Interest</th>\n",
       "      <td>0.417787</td>\n",
       "      <td>0.418666</td>\n",
       "      <td>0.414932</td>\n",
       "      <td>0.771239</td>\n",
       "      <td>1.000000</td>\n",
       "      <td>-0.619427</td>\n",
       "      <td>0.016714</td>\n",
       "      <td>-0.011693</td>\n",
       "      <td>0.010947</td>\n",
       "      <td>0.006635</td>\n",
       "      <td>0.001722</td>\n",
       "    </tr>\n",
       "    <tr>\n",
       "      <th>Attrition</th>\n",
       "      <td>-0.716961</td>\n",
       "      <td>-0.712567</td>\n",
       "      <td>-0.716228</td>\n",
       "      <td>-0.860724</td>\n",
       "      <td>-0.619427</td>\n",
       "      <td>1.000000</td>\n",
       "      <td>-0.013066</td>\n",
       "      <td>0.007705</td>\n",
       "      <td>-0.011042</td>\n",
       "      <td>0.002588</td>\n",
       "      <td>0.002907</td>\n",
       "    </tr>\n",
       "    <tr>\n",
       "      <th>Study Hours per Week</th>\n",
       "      <td>0.019471</td>\n",
       "      <td>0.003493</td>\n",
       "      <td>0.015565</td>\n",
       "      <td>0.021529</td>\n",
       "      <td>0.016714</td>\n",
       "      <td>-0.013066</td>\n",
       "      <td>1.000000</td>\n",
       "      <td>0.003592</td>\n",
       "      <td>-0.003205</td>\n",
       "      <td>-0.008403</td>\n",
       "      <td>0.006530</td>\n",
       "    </tr>\n",
       "    <tr>\n",
       "      <th>Health Status</th>\n",
       "      <td>0.004584</td>\n",
       "      <td>0.010488</td>\n",
       "      <td>0.002641</td>\n",
       "      <td>-0.008542</td>\n",
       "      <td>-0.011693</td>\n",
       "      <td>0.007705</td>\n",
       "      <td>0.003592</td>\n",
       "      <td>1.000000</td>\n",
       "      <td>-0.005736</td>\n",
       "      <td>-0.007829</td>\n",
       "      <td>0.017924</td>\n",
       "    </tr>\n",
       "    <tr>\n",
       "      <th>Distance_From_Institute</th>\n",
       "      <td>0.016956</td>\n",
       "      <td>0.009697</td>\n",
       "      <td>0.008039</td>\n",
       "      <td>0.016968</td>\n",
       "      <td>0.010947</td>\n",
       "      <td>-0.011042</td>\n",
       "      <td>-0.003205</td>\n",
       "      <td>-0.005736</td>\n",
       "      <td>1.000000</td>\n",
       "      <td>0.018366</td>\n",
       "      <td>0.002305</td>\n",
       "    </tr>\n",
       "    <tr>\n",
       "      <th>Gender</th>\n",
       "      <td>0.005715</td>\n",
       "      <td>0.001582</td>\n",
       "      <td>-0.003030</td>\n",
       "      <td>0.002472</td>\n",
       "      <td>0.006635</td>\n",
       "      <td>0.002588</td>\n",
       "      <td>-0.008403</td>\n",
       "      <td>-0.007829</td>\n",
       "      <td>0.018366</td>\n",
       "      <td>1.000000</td>\n",
       "      <td>-0.003637</td>\n",
       "    </tr>\n",
       "    <tr>\n",
       "      <th>sentiment_score</th>\n",
       "      <td>-0.005143</td>\n",
       "      <td>-0.001813</td>\n",
       "      <td>0.007202</td>\n",
       "      <td>-0.002059</td>\n",
       "      <td>0.001722</td>\n",
       "      <td>0.002907</td>\n",
       "      <td>0.006530</td>\n",
       "      <td>0.017924</td>\n",
       "      <td>0.002305</td>\n",
       "      <td>-0.003637</td>\n",
       "      <td>1.000000</td>\n",
       "    </tr>\n",
       "  </tbody>\n",
       "</table>\n",
       "</div>"
      ],
      "text/plain": [
       "                            Test1     Test2     Test3  Attendance  Interest  \\\n",
       "Test1                    1.000000  0.573389  0.575360    0.706659  0.417787   \n",
       "Test2                    0.573389  1.000000  0.575726    0.700833  0.418666   \n",
       "Test3                    0.575360  0.575726  1.000000    0.706916  0.414932   \n",
       "Attendance               0.706659  0.700833  0.706916    1.000000  0.771239   \n",
       "Interest                 0.417787  0.418666  0.414932    0.771239  1.000000   \n",
       "Attrition               -0.716961 -0.712567 -0.716228   -0.860724 -0.619427   \n",
       "Study Hours per Week     0.019471  0.003493  0.015565    0.021529  0.016714   \n",
       "Health Status            0.004584  0.010488  0.002641   -0.008542 -0.011693   \n",
       "Distance_From_Institute  0.016956  0.009697  0.008039    0.016968  0.010947   \n",
       "Gender                   0.005715  0.001582 -0.003030    0.002472  0.006635   \n",
       "sentiment_score         -0.005143 -0.001813  0.007202   -0.002059  0.001722   \n",
       "\n",
       "                         Attrition  Study Hours per Week  Health Status  \\\n",
       "Test1                    -0.716961              0.019471       0.004584   \n",
       "Test2                    -0.712567              0.003493       0.010488   \n",
       "Test3                    -0.716228              0.015565       0.002641   \n",
       "Attendance               -0.860724              0.021529      -0.008542   \n",
       "Interest                 -0.619427              0.016714      -0.011693   \n",
       "Attrition                 1.000000             -0.013066       0.007705   \n",
       "Study Hours per Week     -0.013066              1.000000       0.003592   \n",
       "Health Status             0.007705              0.003592       1.000000   \n",
       "Distance_From_Institute  -0.011042             -0.003205      -0.005736   \n",
       "Gender                    0.002588             -0.008403      -0.007829   \n",
       "sentiment_score           0.002907              0.006530       0.017924   \n",
       "\n",
       "                         Distance_From_Institute    Gender  sentiment_score  \n",
       "Test1                                   0.016956  0.005715        -0.005143  \n",
       "Test2                                   0.009697  0.001582        -0.001813  \n",
       "Test3                                   0.008039 -0.003030         0.007202  \n",
       "Attendance                              0.016968  0.002472        -0.002059  \n",
       "Interest                                0.010947  0.006635         0.001722  \n",
       "Attrition                              -0.011042  0.002588         0.002907  \n",
       "Study Hours per Week                   -0.003205 -0.008403         0.006530  \n",
       "Health Status                          -0.005736 -0.007829         0.017924  \n",
       "Distance_From_Institute                 1.000000  0.018366         0.002305  \n",
       "Gender                                  0.018366  1.000000        -0.003637  \n",
       "sentiment_score                         0.002305 -0.003637         1.000000  "
      ]
     },
     "execution_count": 47,
     "metadata": {},
     "output_type": "execute_result"
    }
   ],
   "source": [
    "df.corr()"
   ]
  },
  {
   "cell_type": "code",
   "execution_count": 48,
   "id": "7c1a9be1",
   "metadata": {},
   "outputs": [
    {
     "data": {
      "text/html": [
       "<div>\n",
       "<style scoped>\n",
       "    .dataframe tbody tr th:only-of-type {\n",
       "        vertical-align: middle;\n",
       "    }\n",
       "\n",
       "    .dataframe tbody tr th {\n",
       "        vertical-align: top;\n",
       "    }\n",
       "\n",
       "    .dataframe thead th {\n",
       "        text-align: right;\n",
       "    }\n",
       "</style>\n",
       "<table border=\"1\" class=\"dataframe\">\n",
       "  <thead>\n",
       "    <tr style=\"text-align: right;\">\n",
       "      <th></th>\n",
       "      <th>Test1</th>\n",
       "      <th>Test2</th>\n",
       "      <th>Test3</th>\n",
       "      <th>Attendance</th>\n",
       "      <th>Interest</th>\n",
       "      <th>Attrition</th>\n",
       "      <th>Teacher_feedback</th>\n",
       "      <th>Study Hours per Week</th>\n",
       "      <th>Health Status</th>\n",
       "      <th>Distance_From_Institute</th>\n",
       "      <th>Gender</th>\n",
       "    </tr>\n",
       "  </thead>\n",
       "  <tbody>\n",
       "    <tr>\n",
       "      <th>9374</th>\n",
       "      <td>95.0</td>\n",
       "      <td>51.0</td>\n",
       "      <td>45.0</td>\n",
       "      <td>90.0</td>\n",
       "      <td>2.0</td>\n",
       "      <td>0</td>\n",
       "      <td>Your positive impact on group dynamics is noti...</td>\n",
       "      <td>13</td>\n",
       "      <td>0.0</td>\n",
       "      <td>15.810596</td>\n",
       "      <td>1</td>\n",
       "    </tr>\n",
       "    <tr>\n",
       "      <th>2986</th>\n",
       "      <td>86.0</td>\n",
       "      <td>50.0</td>\n",
       "      <td>75.0</td>\n",
       "      <td>95.0</td>\n",
       "      <td>2.0</td>\n",
       "      <td>0</td>\n",
       "      <td>Addressing challenges requires a more structur...</td>\n",
       "      <td>4</td>\n",
       "      <td>1.0</td>\n",
       "      <td>8.852572</td>\n",
       "      <td>0</td>\n",
       "    </tr>\n",
       "    <tr>\n",
       "      <th>6708</th>\n",
       "      <td>76.0</td>\n",
       "      <td>82.0</td>\n",
       "      <td>77.0</td>\n",
       "      <td>90.0</td>\n",
       "      <td>2.0</td>\n",
       "      <td>0</td>\n",
       "      <td>Your dedication to continuous learning is admi...</td>\n",
       "      <td>12</td>\n",
       "      <td>1.0</td>\n",
       "      <td>9.403001</td>\n",
       "      <td>0</td>\n",
       "    </tr>\n",
       "  </tbody>\n",
       "</table>\n",
       "</div>"
      ],
      "text/plain": [
       "      Test1  Test2  Test3  Attendance  Interest  Attrition  \\\n",
       "9374   95.0   51.0   45.0        90.0       2.0          0   \n",
       "2986   86.0   50.0   75.0        95.0       2.0          0   \n",
       "6708   76.0   82.0   77.0        90.0       2.0          0   \n",
       "\n",
       "                                       Teacher_feedback  Study Hours per Week  \\\n",
       "9374  Your positive impact on group dynamics is noti...                    13   \n",
       "2986  Addressing challenges requires a more structur...                     4   \n",
       "6708  Your dedication to continuous learning is admi...                    12   \n",
       "\n",
       "      Health Status  Distance_From_Institute  Gender  \n",
       "9374            0.0                15.810596       1  \n",
       "2986            1.0                 8.852572       0  \n",
       "6708            1.0                 9.403001       0  "
      ]
     },
     "execution_count": 48,
     "metadata": {},
     "output_type": "execute_result"
    }
   ],
   "source": [
    "#now we drop column which have less relation with attrition\n",
    "df.drop(['sentiment_score'],axis=1,inplace=True)\n",
    "df.sample(3)"
   ]
  },
  {
   "cell_type": "code",
   "execution_count": 49,
   "id": "56a07162",
   "metadata": {},
   "outputs": [
    {
     "data": {
      "text/html": [
       "<div>\n",
       "<style scoped>\n",
       "    .dataframe tbody tr th:only-of-type {\n",
       "        vertical-align: middle;\n",
       "    }\n",
       "\n",
       "    .dataframe tbody tr th {\n",
       "        vertical-align: top;\n",
       "    }\n",
       "\n",
       "    .dataframe thead th {\n",
       "        text-align: right;\n",
       "    }\n",
       "</style>\n",
       "<table border=\"1\" class=\"dataframe\">\n",
       "  <thead>\n",
       "    <tr style=\"text-align: right;\">\n",
       "      <th></th>\n",
       "      <th>Test1</th>\n",
       "      <th>Test2</th>\n",
       "      <th>Test3</th>\n",
       "      <th>Attendance</th>\n",
       "      <th>Interest</th>\n",
       "      <th>Attrition</th>\n",
       "      <th>Teacher_feedback</th>\n",
       "      <th>Study Hours per Week</th>\n",
       "      <th>Health Status</th>\n",
       "      <th>Distance_From_Institute</th>\n",
       "    </tr>\n",
       "  </thead>\n",
       "  <tbody>\n",
       "    <tr>\n",
       "      <th>5615</th>\n",
       "      <td>80.000000</td>\n",
       "      <td>49.000000</td>\n",
       "      <td>69.000000</td>\n",
       "      <td>67.000</td>\n",
       "      <td>0.0</td>\n",
       "      <td>0</td>\n",
       "      <td>You have a knack for making complex topics acc...</td>\n",
       "      <td>12</td>\n",
       "      <td>0.0</td>\n",
       "      <td>4.935848</td>\n",
       "    </tr>\n",
       "    <tr>\n",
       "      <th>7358</th>\n",
       "      <td>79.000000</td>\n",
       "      <td>45.000000</td>\n",
       "      <td>86.000000</td>\n",
       "      <td>91.000</td>\n",
       "      <td>2.0</td>\n",
       "      <td>0</td>\n",
       "      <td>Your recent projects demonstrate creativity an...</td>\n",
       "      <td>2</td>\n",
       "      <td>2.0</td>\n",
       "      <td>5.881743</td>\n",
       "    </tr>\n",
       "    <tr>\n",
       "      <th>7786</th>\n",
       "      <td>62.366849</td>\n",
       "      <td>59.898737</td>\n",
       "      <td>59.878842</td>\n",
       "      <td>66.028</td>\n",
       "      <td>2.0</td>\n",
       "      <td>0</td>\n",
       "      <td>Your recent submissions indicate a need for mo...</td>\n",
       "      <td>10</td>\n",
       "      <td>1.0</td>\n",
       "      <td>9.674530</td>\n",
       "    </tr>\n",
       "  </tbody>\n",
       "</table>\n",
       "</div>"
      ],
      "text/plain": [
       "          Test1      Test2      Test3  Attendance  Interest  Attrition  \\\n",
       "5615  80.000000  49.000000  69.000000      67.000       0.0          0   \n",
       "7358  79.000000  45.000000  86.000000      91.000       2.0          0   \n",
       "7786  62.366849  59.898737  59.878842      66.028       2.0          0   \n",
       "\n",
       "                                       Teacher_feedback  Study Hours per Week  \\\n",
       "5615  You have a knack for making complex topics acc...                    12   \n",
       "7358  Your recent projects demonstrate creativity an...                     2   \n",
       "7786  Your recent submissions indicate a need for mo...                    10   \n",
       "\n",
       "      Health Status  Distance_From_Institute  \n",
       "5615            0.0                 4.935848  \n",
       "7358            2.0                 5.881743  \n",
       "7786            1.0                 9.674530  "
      ]
     },
     "execution_count": 49,
     "metadata": {},
     "output_type": "execute_result"
    }
   ],
   "source": [
    "df.drop(['Gender'],axis=1,inplace=True)\n",
    "df.sample(3)"
   ]
  },
  {
   "cell_type": "code",
   "execution_count": 50,
   "id": "6731c55e",
   "metadata": {},
   "outputs": [
    {
     "data": {
      "text/html": [
       "<div>\n",
       "<style scoped>\n",
       "    .dataframe tbody tr th:only-of-type {\n",
       "        vertical-align: middle;\n",
       "    }\n",
       "\n",
       "    .dataframe tbody tr th {\n",
       "        vertical-align: top;\n",
       "    }\n",
       "\n",
       "    .dataframe thead th {\n",
       "        text-align: right;\n",
       "    }\n",
       "</style>\n",
       "<table border=\"1\" class=\"dataframe\">\n",
       "  <thead>\n",
       "    <tr style=\"text-align: right;\">\n",
       "      <th></th>\n",
       "      <th>Test1</th>\n",
       "      <th>Test2</th>\n",
       "      <th>Test3</th>\n",
       "      <th>Attendance</th>\n",
       "      <th>Interest</th>\n",
       "      <th>Attrition</th>\n",
       "      <th>Study Hours per Week</th>\n",
       "      <th>Health Status</th>\n",
       "      <th>Distance_From_Institute</th>\n",
       "    </tr>\n",
       "  </thead>\n",
       "  <tbody>\n",
       "    <tr>\n",
       "      <th>8922</th>\n",
       "      <td>16.0</td>\n",
       "      <td>30.0</td>\n",
       "      <td>10.0</td>\n",
       "      <td>8.0</td>\n",
       "      <td>0.0</td>\n",
       "      <td>1</td>\n",
       "      <td>13</td>\n",
       "      <td>0.0</td>\n",
       "      <td>7.316797</td>\n",
       "    </tr>\n",
       "    <tr>\n",
       "      <th>7330</th>\n",
       "      <td>59.0</td>\n",
       "      <td>63.0</td>\n",
       "      <td>91.0</td>\n",
       "      <td>63.0</td>\n",
       "      <td>0.0</td>\n",
       "      <td>0</td>\n",
       "      <td>12</td>\n",
       "      <td>1.0</td>\n",
       "      <td>15.089248</td>\n",
       "    </tr>\n",
       "    <tr>\n",
       "      <th>6668</th>\n",
       "      <td>56.0</td>\n",
       "      <td>41.0</td>\n",
       "      <td>67.0</td>\n",
       "      <td>94.0</td>\n",
       "      <td>2.0</td>\n",
       "      <td>0</td>\n",
       "      <td>7</td>\n",
       "      <td>2.0</td>\n",
       "      <td>8.113761</td>\n",
       "    </tr>\n",
       "  </tbody>\n",
       "</table>\n",
       "</div>"
      ],
      "text/plain": [
       "      Test1  Test2  Test3  Attendance  Interest  Attrition  \\\n",
       "8922   16.0   30.0   10.0         8.0       0.0          1   \n",
       "7330   59.0   63.0   91.0        63.0       0.0          0   \n",
       "6668   56.0   41.0   67.0        94.0       2.0          0   \n",
       "\n",
       "      Study Hours per Week  Health Status  Distance_From_Institute  \n",
       "8922                    13            0.0                 7.316797  \n",
       "7330                    12            1.0                15.089248  \n",
       "6668                     7            2.0                 8.113761  "
      ]
     },
     "execution_count": 50,
     "metadata": {},
     "output_type": "execute_result"
    }
   ],
   "source": [
    "df.drop(['Teacher_feedback'],axis=1,inplace=True)\n",
    "df.sample(3)"
   ]
  },
  {
   "cell_type": "code",
   "execution_count": 51,
   "id": "7770a604",
   "metadata": {},
   "outputs": [
    {
     "data": {
      "text/html": [
       "<div>\n",
       "<style scoped>\n",
       "    .dataframe tbody tr th:only-of-type {\n",
       "        vertical-align: middle;\n",
       "    }\n",
       "\n",
       "    .dataframe tbody tr th {\n",
       "        vertical-align: top;\n",
       "    }\n",
       "\n",
       "    .dataframe thead th {\n",
       "        text-align: right;\n",
       "    }\n",
       "</style>\n",
       "<table border=\"1\" class=\"dataframe\">\n",
       "  <thead>\n",
       "    <tr style=\"text-align: right;\">\n",
       "      <th></th>\n",
       "      <th>Test1</th>\n",
       "      <th>Test2</th>\n",
       "      <th>Test3</th>\n",
       "      <th>Attendance</th>\n",
       "      <th>Interest</th>\n",
       "      <th>Attrition</th>\n",
       "    </tr>\n",
       "  </thead>\n",
       "  <tbody>\n",
       "    <tr>\n",
       "      <th>6778</th>\n",
       "      <td>61.0</td>\n",
       "      <td>79.0</td>\n",
       "      <td>86.0</td>\n",
       "      <td>76.0</td>\n",
       "      <td>1.0</td>\n",
       "      <td>0</td>\n",
       "    </tr>\n",
       "    <tr>\n",
       "      <th>9956</th>\n",
       "      <td>85.0</td>\n",
       "      <td>47.0</td>\n",
       "      <td>73.0</td>\n",
       "      <td>81.0</td>\n",
       "      <td>2.0</td>\n",
       "      <td>0</td>\n",
       "    </tr>\n",
       "    <tr>\n",
       "      <th>910</th>\n",
       "      <td>49.0</td>\n",
       "      <td>91.0</td>\n",
       "      <td>71.0</td>\n",
       "      <td>74.0</td>\n",
       "      <td>1.0</td>\n",
       "      <td>0</td>\n",
       "    </tr>\n",
       "  </tbody>\n",
       "</table>\n",
       "</div>"
      ],
      "text/plain": [
       "      Test1  Test2  Test3  Attendance  Interest  Attrition\n",
       "6778   61.0   79.0   86.0        76.0       1.0          0\n",
       "9956   85.0   47.0   73.0        81.0       2.0          0\n",
       "910    49.0   91.0   71.0        74.0       1.0          0"
      ]
     },
     "execution_count": 51,
     "metadata": {},
     "output_type": "execute_result"
    }
   ],
   "source": [
    "df.drop(['Study Hours per Week', 'Distance_From_Institute', 'Health Status'], axis=1,inplace = True)\n",
    "df.sample(3)"
   ]
  },
  {
   "cell_type": "code",
   "execution_count": 52,
   "id": "6da5d821",
   "metadata": {},
   "outputs": [
    {
     "data": {
      "text/plain": [
       "0    7528\n",
       "1    2112\n",
       "Name: Attrition, dtype: int64"
      ]
     },
     "execution_count": 52,
     "metadata": {},
     "output_type": "execute_result"
    }
   ],
   "source": [
    "df[\"Attrition\"].value_counts()#so the dataset is imbalance"
   ]
  },
  {
   "cell_type": "code",
   "execution_count": 53,
   "id": "50ae087b",
   "metadata": {},
   "outputs": [],
   "source": [
    "#avoid imbalance problem we use concept of class_weight to build model"
   ]
  },
  {
   "cell_type": "code",
   "execution_count": 54,
   "id": "9ffc0632",
   "metadata": {},
   "outputs": [
    {
     "name": "stdout",
     "output_type": "stream",
     "text": [
      "Logistic Regression Classification Report:\n",
      "              precision    recall  f1-score   support\n",
      "\n",
      "           0       1.00      0.98      0.99      1502\n",
      "           1       0.94      1.00      0.97       426\n",
      "\n",
      "    accuracy                           0.99      1928\n",
      "   macro avg       0.97      0.99      0.98      1928\n",
      "weighted avg       0.99      0.99      0.99      1928\n",
      "\n"
     ]
    }
   ],
   "source": [
    "#now we use logistic regression\n",
    "from sklearn.linear_model import LogisticRegression\n",
    "from sklearn.model_selection import train_test_split\n",
    "from sklearn.metrics import classification_report\n",
    "\n",
    "X = df.drop('Attrition', axis=1)\n",
    "y = df['Attrition']\n",
    "\n",
    "X_train, X_test, y_train, y_test = train_test_split(X, y, test_size=0.2, random_state=42)\n",
    "\n",
    "LR = LogisticRegression(random_state=42, class_weight='balanced')\n",
    "\n",
    "LR.fit(X_train, y_train)\n",
    "\n",
    "y_pred = LR.predict(X_test)\n",
    "\n",
    "print(\"Logistic Regression Classification Report:\")\n",
    "print(classification_report(y_test, y_pred))\n"
   ]
  },
  {
   "cell_type": "code",
   "execution_count": 55,
   "id": "ff2ad52d",
   "metadata": {},
   "outputs": [
    {
     "name": "stdout",
     "output_type": "stream",
     "text": [
      "Naive Bayes Classification Report:\n",
      "              precision    recall  f1-score   support\n",
      "\n",
      "           0       1.00      0.98      0.99      1502\n",
      "           1       0.93      1.00      0.96       426\n",
      "\n",
      "    accuracy                           0.98      1928\n",
      "   macro avg       0.97      0.99      0.98      1928\n",
      "weighted avg       0.98      0.98      0.98      1928\n",
      "\n"
     ]
    }
   ],
   "source": [
    "#similarly we use naive bayes\n",
    "from sklearn.naive_bayes import GaussianNB\n",
    "\n",
    "X = df.drop('Attrition', axis=1)\n",
    "y = df['Attrition']\n",
    "\n",
    "\n",
    "NB = GaussianNB()\n",
    "\n",
    "NB.fit(X_train, y_train)\n",
    "\n",
    "\n",
    "y_pred = NB.predict(X_test)\n",
    "\n",
    "\n",
    "print(\"Naive Bayes Classification Report:\")\n",
    "print(classification_report(y_test, y_pred))\n"
   ]
  },
  {
   "cell_type": "code",
   "execution_count": 56,
   "id": "1c2b1c9f",
   "metadata": {},
   "outputs": [
    {
     "name": "stdout",
     "output_type": "stream",
     "text": [
      "Decision Tree Classification Report:\n",
      "              precision    recall  f1-score   support\n",
      "\n",
      "           0       0.99      0.99      0.99      1502\n",
      "           1       0.96      0.98      0.97       426\n",
      "\n",
      "    accuracy                           0.99      1928\n",
      "   macro avg       0.98      0.98      0.98      1928\n",
      "weighted avg       0.99      0.99      0.99      1928\n",
      "\n"
     ]
    }
   ],
   "source": [
    "from sklearn.tree import DecisionTreeClassifier\n",
    "\n",
    "X = df.drop('Attrition', axis=1)\n",
    "y = df['Attrition']\n",
    "\n",
    "\n",
    "DT = DecisionTreeClassifier(random_state=42, class_weight='balanced')\n",
    "\n",
    "# Train the model\n",
    "DT.fit(X_train, y_train)\n",
    "\n",
    "y_pred = DT.predict(X_test)\n",
    "\n",
    "print(\"Decision Tree Classification Report:\")\n",
    "print(classification_report(y_test, y_pred))\n"
   ]
  },
  {
   "cell_type": "code",
   "execution_count": null,
   "id": "0a2953df",
   "metadata": {},
   "outputs": [],
   "source": []
  }
 ],
 "metadata": {
  "kernelspec": {
   "display_name": "Python 3 (ipykernel)",
   "language": "python",
   "name": "python3"
  },
  "language_info": {
   "codemirror_mode": {
    "name": "ipython",
    "version": 3
   },
   "file_extension": ".py",
   "mimetype": "text/x-python",
   "name": "python",
   "nbconvert_exporter": "python",
   "pygments_lexer": "ipython3",
   "version": "3.11.4"
  }
 },
 "nbformat": 4,
 "nbformat_minor": 5
}
